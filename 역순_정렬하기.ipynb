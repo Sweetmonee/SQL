{
  "nbformat": 4,
  "nbformat_minor": 0,
  "metadata": {
    "colab": {
      "provenance": [],
      "authorship_tag": "ABX9TyMj7HTEqh9JtHrxULfTPLjG",
      "include_colab_link": true
    },
    "kernelspec": {
      "name": "python3",
      "display_name": "Python 3"
    },
    "language_info": {
      "name": "python"
    }
  },
  "cells": [
    {
      "cell_type": "markdown",
      "metadata": {
        "id": "view-in-github",
        "colab_type": "text"
      },
      "source": [
        "<a href=\"https://colab.research.google.com/github/Sweetmonee/SQL/blob/main/%EC%97%AD%EC%88%9C_%EC%A0%95%EB%A0%AC%ED%95%98%EA%B8%B0.ipynb\" target=\"_parent\"><img src=\"https://colab.research.google.com/assets/colab-badge.svg\" alt=\"Open In Colab\"/></a>"
      ]
    },
    {
      "cell_type": "markdown",
      "source": [
        "문제 설명\n",
        "ANIMAL_INS 테이블은 동물 보호소에 들어온 동물의 정보를 담은 테이블입니다. ANIMAL_INS 테이블 구조는 다음과 같으며, ANIMAL_ID, ANIMAL_TYPE, DATETIME, INTAKE_CONDITION, NAME, SEX_UPON_INTAKE는 각각 동물의 아이디, 생물 종, 보호 시작일, 보호 시작 시 상태, 이름, 성별 및 중성화 여부를 나타냅니다.\n",
        "\n",
        "NAME\tTYPE\tNULLABLE\n",
        "ANIMAL_ID\tVARCHAR(N)\tFALSE\n",
        "ANIMAL_TYPE\tVARCHAR(N)\tFALSE\n",
        "DATETIME\tDATETIME\tFALSE\n",
        "INTAKE_CONDITION\tVARCHAR(N)\tFALSE\n",
        "NAME\tVARCHAR(N)\tTRUE\n",
        "SEX_UPON_INTAKE\tVARCHAR(N)\tFALSE\n",
        "동물 보호소에 들어온 모든 동물의 이름과 보호 시작일을 조회하는 SQL문을 작성해주세요. 이때 결과는 ANIMAL_ID 역순으로 보여주세요. SQL을 실행하면 다음과 같이 출력되어야 합니다.\n",
        "\n",
        "NAME\tDATETIME\n",
        "Rocky\t2016-06-07 09:17:00\n",
        "Shelly\t2015-01-29 15:01:00\n",
        "Benji\t2016-04-19 13:28:00\n",
        "Jackie\t2016-01-03 16:25:00\n",
        "*Sam\t2016-03-13 11:17:00\n",
        "..이하 생략\n",
        "\n"
      ],
      "metadata": {
        "id": "U2xioLNRw7pJ"
      }
    },
    {
      "cell_type": "code",
      "execution_count": null,
      "metadata": {
        "id": "iDeC-RtOwzZa"
      },
      "outputs": [],
      "source": [
        "-- 코드를 입력하세요\n",
        "SELECT NAME, DATETIME\n",
        "FROM ANIMAL_INS\n",
        "ORDER BY ANIMAL_ID DESC"
      ]
    }
  ]
}