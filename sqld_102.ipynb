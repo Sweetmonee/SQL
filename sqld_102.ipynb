{
  "nbformat": 4,
  "nbformat_minor": 0,
  "metadata": {
    "colab": {
      "provenance": [],
      "authorship_tag": "ABX9TyPA0AV4Ipw6sQSJddpZAbwc",
      "include_colab_link": true
    },
    "kernelspec": {
      "name": "python3",
      "display_name": "Python 3"
    },
    "language_info": {
      "name": "python"
    }
  },
  "cells": [
    {
      "cell_type": "markdown",
      "metadata": {
        "id": "view-in-github",
        "colab_type": "text"
      },
      "source": [
        "<a href=\"https://colab.research.google.com/github/Sweetmonee/SQL/blob/main/%08sqld_102.ipynb\" target=\"_parent\"><img src=\"https://colab.research.google.com/assets/colab-badge.svg\" alt=\"Open In Colab\"/></a>"
      ]
    },
    {
      "cell_type": "code",
      "execution_count": null,
      "metadata": {
        "id": "G2DpFnS_3897"
      },
      "outputs": [],
      "source": [
        "update 부서 A SET 담당자 = (SELECT MAX(C.변경일자)\n",
        "                          FROM 부서임시 C WHERE\n",
        "                          C.부서코드 = B.부서코드)\n",
        "WHERE 부서코드 IN (SELECT 부서코드 FROM 부서임시);"
      ]
    }
  ]
}