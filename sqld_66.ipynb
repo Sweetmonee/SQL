{
  "nbformat": 4,
  "nbformat_minor": 0,
  "metadata": {
    "colab": {
      "provenance": [],
      "authorship_tag": "ABX9TyMZ+Ia+YyBBxU426g7GDVST",
      "include_colab_link": true
    },
    "kernelspec": {
      "name": "python3",
      "display_name": "Python 3"
    },
    "language_info": {
      "name": "python"
    }
  },
  "cells": [
    {
      "cell_type": "markdown",
      "metadata": {
        "id": "view-in-github",
        "colab_type": "text"
      },
      "source": [
        "<a href=\"https://colab.research.google.com/github/Sweetmonee/SQL/blob/main/sqld_66.ipynb\" target=\"_parent\"><img src=\"https://colab.research.google.com/assets/colab-badge.svg\" alt=\"Open In Colab\"/></a>"
      ]
    },
    {
      "cell_type": "code",
      "execution_count": null,
      "metadata": {
        "id": "C-wCzq-ATJGb"
      },
      "outputs": [],
      "source": [
        "select c.컨텐츠id, c.컨텐츠명\n",
        "from 고객 a inner join 추천컨텐츠 b\n",
        "on (a.고객id = b.고객id) inner join 컨텐츠 c\n",
        "on (b.컨텐츠id = c.컨텐츠id) left outer join 비선호컨텐츠 d\n",
        "on (b.고객id = D.고객id and b.컨텐츠id = d.컨텐츠id)\n",
        "where b.추천대상일자 = to_char(sysdate, 'yyyy.mm.dd')\n",
        "and b.컨텐츠id is null;"
      ]
    }
  ]
}